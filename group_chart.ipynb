{
 "cells": [
  {
   "cell_type": "code",
   "execution_count": 1,
   "id": "5940ca15-37e0-4a5e-bc0e-402840524651",
   "metadata": {},
   "outputs": [],
   "source": [
    "import pandas as pd\n",
    "import plotly.graph_objects as go\n",
    "from datetime import datetime\n",
    "import pytz"
   ]
  },
  {
   "cell_type": "code",
   "execution_count": 2,
   "id": "c5effbf8-b172-4283-877b-01622fb64122",
   "metadata": {},
   "outputs": [],
   "source": [
    "df = pd.read_csv(\"category_data.csv\")"
   ]
  },
  {
   "cell_type": "code",
   "execution_count": 3,
   "id": "d7820457-03ab-4765-9aa9-6437923c19c2",
   "metadata": {},
   "outputs": [],
   "source": [
    "df['Last_Updated'] = pd.to_datetime(df['Last_Updated'], errors='coerce')\n",
    "filtered = df[\n",
    "    (df['Rating'] >= 4.0) &\n",
    "    (df['Size_MB'] >= 10) &\n",
    "    (df['Last_Updated'].dt.month == 1)\n",
    "]\n",
    "grouped = filtered.groupby(\"Category\").agg({\n",
    "    'Rating': 'mean',\n",
    "    'Reviews': 'sum',\n",
    "    'Installs': 'sum'\n",
    "}).sort_values(by=\"Installs\", ascending=False).head(10).reset_index()\n",
    "now_ist = datetime.now(pytz.timezone('Asia/Kolkata'))\n",
    "current_hour = now_ist.hour"
   ]
  },
  {
   "cell_type": "code",
   "execution_count": null,
   "id": "a69cd8be-881f-4bec-a506-6fdad7b70618",
   "metadata": {},
   "outputs": [],
   "source": [
    "if 15 <= current_hour < 17:\n",
    "    fig = go.Figure(data=[\n",
    "        go.Bar(name='Average Rating', x=grouped['Category'], y=grouped['Rating']),\n",
    "        go.Bar(name='Total Reviews', x=grouped['Category'], y=grouped['Reviews'])\n",
    "    ])\n",
    "\n",
    "    fig.update_layout(\n",
    "        barmode='group',\n",
    "        title='Avg Rating & Total Reviews for Top 10 Categories (Filtered)',\n",
    "        xaxis_title='Category',\n",
    "        yaxis_title='Value',\n",
    "        legend_title='Metric',\n",
    "        height=500\n",
    "    )\n",
    "\n",
    "    fig.show()\n",
    "else:\n",
    "    print(\"Chart is not available. This chart is only visible between 3 PM and 5 PM IST.\")\n"
   ]
  }
 ],
 "metadata": {
  "kernelspec": {
   "display_name": "Python 3 (ipykernel)",
   "language": "python",
   "name": "python3"
  },
  "language_info": {
   "codemirror_mode": {
    "name": "ipython",
    "version": 3
   },
   "file_extension": ".py",
   "mimetype": "text/x-python",
   "name": "python",
   "nbconvert_exporter": "python",
   "pygments_lexer": "ipython3",
   "version": "3.13.3"
  }
 },
 "nbformat": 4,
 "nbformat_minor": 5
}
